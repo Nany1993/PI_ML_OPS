{
 "cells": [
  {
   "cell_type": "code",
   "execution_count": 9,
   "metadata": {},
   "outputs": [],
   "source": [
    "import requests"
   ]
  },
  {
   "cell_type": "code",
   "execution_count": 18,
   "metadata": {},
   "outputs": [],
   "source": [
    "def consulta1(mes):\n",
    "    url = f'https://nany1993-pi-ml-ops.onrender.com/pelicula_mes/{mes}'\n",
    "    r = requests.get(url).json\n",
    "    return r\n",
    "\n",
    "def consulta2(dia):\n",
    "    url = f'https://nany1993-pi-ml-ops.onrender.com/docs#/default/peliculas_dia_peliculas_dia__dia__get/{dia}'\n",
    "    r = requests.get(url).json\n",
    "    return r\n",
    "\n",
    "def consulta3(franquicia):\n",
    "    url = f'https://nany1993-pi-ml-ops.onrender.com/docs#/default/franquicia_franquicia__franquicia__get/{franquicia}'\n",
    "    r = requests.get(url).json\n",
    "    return r\n",
    "\n",
    "def consulta4(pais):\n",
    "    url = f'ttps://nany1993-pi-ml-ops.onrender.com/docs#/default/peliculas_pais_peliculas_pais__pais__get/{pais}'\n",
    "    r = requests.get(url).json\n",
    "    return r\n",
    "\n",
    "def consulta5(productora):\n",
    "    url = f'https://nany1993-pi-ml-ops.onrender.com/docs#/default/productoras_productoras__productora__get/{productora}'\n",
    "    r = requests.get(url).json\n",
    "    return r\n",
    "\n",
    "def consulta6(pelicula):\n",
    "    url = f'https://nany1993-pi-ml-ops.onrender.com/docs#/default/retorno_retorno__pelicula__get/{pelicula}'\n",
    "    r = requests.get(url).json\n",
    "    return r\n",
    "\n",
    "def consulta7(titulo):\n",
    "    url = f'https://nany1993-pi-ml-ops.onrender.com/docs#/default/recomendacion_recomendacion__titulo__get/{titulo}'\n",
    "    r = requests.get(url).json\n",
    "    return r  "
   ]
  },
  {
   "cell_type": "code",
   "execution_count": 16,
   "metadata": {},
   "outputs": [
    {
     "name": "stdout",
     "output_type": "stream",
     "text": [
      "<bound method Response.json of <Response [404]>>\n"
     ]
    },
    {
     "data": {
      "text/plain": [
       "'print(consulta2(\"martes\"))\\nprint(consulta3(\"Toy Story Collection\"))\\nprint(consulta4(\"United Kingdom\"))\\nprint(consulta5(\"Pixar Animation Studios\"))\\nprint(consulta6(\"Toy Story\"))\\nprint(consulta7(\"cinderella\"))'"
      ]
     },
     "execution_count": 16,
     "metadata": {},
     "output_type": "execute_result"
    }
   ],
   "source": [
    "print(consulta1(\"enero\"))\n",
    "\"\"\"print(consulta2(\"martes\"))\n",
    "print(consulta3(\"Toy Story Collection\"))\n",
    "print(consulta4(\"United Kingdom\"))\n",
    "print(consulta5(\"Pixar Animation Studios\"))\n",
    "print(consulta6(\"Toy Story\"))\n",
    "print(consulta7(\"cinderella\"))\"\"\""
   ]
  },
  {
   "cell_type": "code",
   "execution_count": 19,
   "metadata": {},
   "outputs": [
    {
     "name": "stdout",
     "output_type": "stream",
     "text": [
      "<bound method Response.json of <Response [404]>>\n"
     ]
    }
   ],
   "source": [
    "print(consulta1(\"enero\"))"
   ]
  }
 ],
 "metadata": {
  "kernelspec": {
   "display_name": "api_data-env",
   "language": "python",
   "name": "python3"
  },
  "language_info": {
   "codemirror_mode": {
    "name": "ipython",
    "version": 3
   },
   "file_extension": ".py",
   "mimetype": "text/x-python",
   "name": "python",
   "nbconvert_exporter": "python",
   "pygments_lexer": "ipython3",
   "version": "3.9.13"
  },
  "orig_nbformat": 4
 },
 "nbformat": 4,
 "nbformat_minor": 2
}
