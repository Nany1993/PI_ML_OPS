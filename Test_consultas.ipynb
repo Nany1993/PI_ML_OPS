{
 "cells": [
  {
   "cell_type": "code",
   "execution_count": 2,
   "metadata": {},
   "outputs": [],
   "source": [
    "import requests"
   ]
  },
  {
   "cell_type": "code",
   "execution_count": 3,
   "metadata": {},
   "outputs": [],
   "source": [
    "def consulta1(mes):\n",
    "    url = f'https://nany1993-pi-ml-ops.onrender.com/peliculas_mes/{mes}'\n",
    "    r = requests.get(url).json()\n",
    "    return r\n",
    "\n",
    "def consulta2(dia):\n",
    "    url = f'https://nany1993-pi-ml-ops.onrender.com/peliculas_dia/{dia}'\n",
    "    r = requests.get(url).json()\n",
    "    return r\n",
    "\n",
    "def consulta3(franquicia):\n",
    "    url = f'https://nany1993-pi-ml-ops.onrender.com/franquicia/{franquicia}'\n",
    "    r = requests.get(url).json()\n",
    "    return r\n",
    "\n",
    "def consulta4(pais):\n",
    "    url = f'https://nany1993-pi-ml-ops.onrender.com/peliculas_pais/{pais}'\n",
    "    r = requests.get(url).json()\n",
    "    return r\n",
    "\n",
    "def consulta5(productora):\n",
    "    url = f'https://nany1993-pi-ml-ops.onrender.com/productoras/{productora}'\n",
    "    r = requests.get(url).json()\n",
    "    return r\n",
    "\n",
    "def consulta6(pelicula):\n",
    "    url = f'https://nany1993-pi-ml-ops.onrender.com/retorno/{pelicula}'\n",
    "    r = requests.get(url).json()\n",
    "    return r\n",
    "\n",
    "def consulta7(titulo):\n",
    "    url = f'https://nany1993-pi-ml-ops.onrender.com/recomendacion/{titulo}'\n",
    "    r = requests.get(url).json()\n",
    "    return r  "
   ]
  },
  {
   "cell_type": "code",
   "execution_count": null,
   "metadata": {},
   "outputs": [],
   "source": [
    "print(consulta1(\"enero\"))\n",
    "print(\"------------------------------------------\")\n",
    "print(consulta2(\"martes\"))\n",
    "print(\"------------------------------------------\")\n",
    "print(consulta3(\"Toy Story Collection\"))\n",
    "print(\"------------------------------------------\")\n",
    "print(consulta4(\"United Kingdom\"))\n",
    "print(\"------------------------------------------\")\n",
    "print(consulta5(\"Pixar Animation Studios\"))\n",
    "print(\"------------------------------------------\")\n",
    "print(consulta6(\"Toy Story\"))\n",
    "print(\"------------------------------------------\")\n",
    "print(consulta7(\"toy story\"))"
   ]
  }
 ],
 "metadata": {
  "kernelspec": {
   "display_name": "api_data-env",
   "language": "python",
   "name": "python3"
  },
  "language_info": {
   "codemirror_mode": {
    "name": "ipython",
    "version": 3
   },
   "file_extension": ".py",
   "mimetype": "text/x-python",
   "name": "python",
   "nbconvert_exporter": "python",
   "pygments_lexer": "ipython3",
   "version": "3.9.13"
  },
  "orig_nbformat": 4
 },
 "nbformat": 4,
 "nbformat_minor": 2
}
